{
 "nbformat": 4,
 "nbformat_minor": 0,
 "metadata": {
  "colab": {
   "provenance": []
  },
  "kernelspec": {
   "name": "python3",
   "language": "python",
   "display_name": "Python 3 (ipykernel)"
  },
  "accelerator": "GPU",
  "gpuClass": "standard"
 },
 "cells": [
  {
   "cell_type": "code",
   "execution_count": 1,
   "outputs": [],
   "source": [
    "try:\n",
    "    import google.colab\n",
    "    IN_COLAB = True\n",
    "except:\n",
    "    IN_COLAB = False\n",
    "\n",
    "TRAIN_FLAG = False"
   ],
   "metadata": {
    "collapsed": false,
    "ExecuteTime": {
     "end_time": "2023-07-07T11:36:38.812913300Z",
     "start_time": "2023-07-07T11:36:38.710909900Z"
    }
   }
  },
  {
   "cell_type": "code",
   "source": [
    "import torch\n",
    "!nvcc --version\n",
    "TORCH_VERSION = \".\".join(torch.__version__.split(\".\")[:2])\n",
    "CUDA_VERSION = torch.__version__.split(\"+\")[-1]\n",
    "print(\"torch: \", TORCH_VERSION, \"; cuda: \", CUDA_VERSION)"
   ],
   "metadata": {
    "colab": {
     "base_uri": "https://localhost:8080/"
    },
    "id": "0d288Z2mF5dC",
    "outputId": "82719c90-694e-4281-d179-879af63f2ca3",
    "ExecuteTime": {
     "end_time": "2023-07-07T11:37:14.493311900Z",
     "start_time": "2023-07-07T11:37:10.412414300Z"
    }
   },
   "execution_count": 2,
   "outputs": [
    {
     "name": "stdout",
     "output_type": "stream",
     "text": [
      "torch:  1.13 ; cuda:  cpu\n"
     ]
    },
    {
     "name": "stderr",
     "output_type": "stream",
     "text": [
      "\"nvcc\" ­Ґ пў«пҐвбп ў­гваҐ­­Ґ© Ё«Ё ў­Ґи­Ґ©\n",
      "Є®¬ ­¤®©, ЁбЇ®«­пҐ¬®© Їа®Ја ¬¬®© Ё«Ё Ї ЄҐв­л¬ д ©«®¬.\n"
     ]
    }
   ]
  },
  {
   "cell_type": "code",
   "source": [
    "!nvidia-smi"
   ],
   "metadata": {
    "colab": {
     "base_uri": "https://localhost:8080/"
    },
    "id": "D8f5ydL1AW5K",
    "outputId": "d3d2c4ac-3481-464a-9962-ec41663c893b",
    "ExecuteTime": {
     "end_time": "2023-07-07T11:37:16.296245700Z",
     "start_time": "2023-07-07T11:37:15.988161900Z"
    }
   },
   "execution_count": 3,
   "outputs": [
    {
     "name": "stderr",
     "output_type": "stream",
     "text": [
      "\"nvidia-smi\" ­Ґ пў«пҐвбп ў­гваҐ­­Ґ© Ё«Ё ў­Ґи­Ґ©\n",
      "Є®¬ ­¤®©, ЁбЇ®«­пҐ¬®© Їа®Ја ¬¬®© Ё«Ё Ї ЄҐв­л¬ д ©«®¬.\n"
     ]
    }
   ]
  },
  {
   "cell_type": "code",
   "source": [
    "import os\n",
    "if IN_COLAB or 'LessPerson-8' not in os.listdir('../../datasets'):\n",
    "    !pip install roboflow\n",
    "\n",
    "    from roboflow import Roboflow\n",
    "    rf = Roboflow(api_key=\"FlkxEvR1HdCJepitvMdT\")\n",
    "    project = rf.workspace(\"-tvhts\").project(\"lessperson\")\n",
    "    dataset = project.version(8).download(\"yolov8\")\n"
   ],
   "metadata": {
    "id": "ztBuBHIbIwgH",
    "ExecuteTime": {
     "end_time": "2023-07-07T12:45:58.800091100Z",
     "start_time": "2023-07-07T12:45:58.758093900Z"
    }
   },
   "execution_count": 9,
   "outputs": []
  },
  {
   "cell_type": "code",
   "source": [
    "if IN_COLAB:\n",
    "    from google.colab import drive\n",
    "    drive.mount('/content/drive')\n",
    "else:\n",
    "    import shutil\n",
    "    shutil.move('LessPerson-8', '../../datasets/')"
   ],
   "metadata": {
    "colab": {
     "base_uri": "https://localhost:8080/"
    },
    "id": "rGeRqnf2vxAx",
    "outputId": "c5c981ef-3579-4de4-d1a3-3fadf00f0f64",
    "ExecuteTime": {
     "end_time": "2023-07-07T11:59:33.685766800Z",
     "start_time": "2023-07-07T11:59:33.626775500Z"
    }
   },
   "execution_count": 8,
   "outputs": []
  },
  {
   "cell_type": "code",
   "source": [
    "from ultralytics import YOLO\n",
    "if IN_COLAB:\n",
    "    datasets_path = \"/content\"\n",
    "else:\n",
    "    datasets_path = \"../../datasets\"\n",
    "\n",
    "if TRAIN_FLAG:\n",
    "    model = YOLO('yolov8n.pt')\n",
    "    results = model.train(\n",
    "       data=f'{datasets_path}/LessPerson-8/data.yaml',\n",
    "       imgsz=416,\n",
    "       epochs=128,\n",
    "       batch=64,\n",
    "       name='yolov8n_Person_Detection')"
   ],
   "metadata": {
    "colab": {
     "base_uri": "https://localhost:8080/"
    },
    "id": "VReiZ5vSI6p6",
    "outputId": "24468414-1817-4d68-98a8-6206c33e56a8",
    "ExecuteTime": {
     "end_time": "2023-07-07T11:58:03.357105600Z",
     "start_time": "2023-07-07T11:58:03.340108900Z"
    }
   },
   "execution_count": 7,
   "outputs": []
  },
  {
   "cell_type": "code",
   "source": [
    "if IN_COLAB:\n",
    "    from shutil import move\n",
    "\n",
    "    move(\"/content/runs\",'/content/drive/MyDrive/Models')"
   ],
   "metadata": {
    "colab": {
     "base_uri": "https://localhost:8080/",
     "height": 35
    },
    "id": "zmRxEPSYwbxb",
    "outputId": "31950015-c9a9-4819-bb6e-8088ed4cbb62",
    "ExecuteTime": {
     "end_time": "2023-06-23T12:42:44.797053400Z",
     "start_time": "2023-06-23T12:42:44.740960400Z"
    }
   },
   "execution_count": 8,
   "outputs": []
  },
  {
   "cell_type": "markdown",
   "source": [],
   "metadata": {
    "id": "cKRToiaZJT4k"
   }
  },
  {
   "cell_type": "code",
   "source": [
    "if IN_COLAB:\n",
    "    from ultralytics import YOLO\n",
    "    import os\n",
    "    from google.colab.patches import cv2_imshow\n",
    "    from cv2 import imread\n",
    "else:\n",
    "    from ultralytics import YOLO\n",
    "    import os\n",
    "    from cv2 import imread, imshow, waitKey, destroyAllWindows"
   ],
   "metadata": {
    "id": "tfitLg9jOZmq",
    "ExecuteTime": {
     "end_time": "2023-06-23T12:42:44.798054400Z",
     "start_time": "2023-06-23T12:42:44.771636900Z"
    }
   },
   "execution_count": 9,
   "outputs": []
  },
  {
   "cell_type": "code",
   "source": [
    "if TRAIN_FLAG:\n",
    "    success = model.export(format=\"onnx\")"
   ],
   "metadata": {
    "colab": {
     "base_uri": "https://localhost:8080/"
    },
    "id": "VhO6fA0sFcM7",
    "outputId": "d811ca20-670c-41c1-83bf-e819541a1d73",
    "ExecuteTime": {
     "end_time": "2023-06-23T12:42:44.848792800Z",
     "start_time": "2023-06-23T12:42:44.805384600Z"
    }
   },
   "execution_count": 10,
   "outputs": []
  },
  {
   "cell_type": "code",
   "execution_count": 11,
   "outputs": [
    {
     "name": "stdout",
     "output_type": "stream",
     "text": [
      "['yolov8n_Person_Detection2', 'YOLO_Human_Detection_Training.ipynb']\n"
     ]
    }
   ],
   "source": [
    "import os\n",
    "print(os.listdir(\".\"))"
   ],
   "metadata": {
    "collapsed": false,
    "ExecuteTime": {
     "end_time": "2023-06-23T12:42:44.876849Z",
     "start_time": "2023-06-23T12:42:44.831804300Z"
    }
   }
  },
  {
   "cell_type": "code",
   "execution_count": 12,
   "outputs": [],
   "source": [
    "if IN_COLAB:\n",
    "    im = imread(\"drive/MyDrive/Models/runs/detect/yolov8n_Person_Detection2/results.png\")\n",
    "    cv2_imshow(im)\n",
    "else:\n",
    "    im = imread(\"yolov8n_Person_Detection2/results.png\")\n",
    "    imshow(\"name\", im)\n",
    "    waitKey(0)\n",
    "    destroyAllWindows()\n"
   ],
   "metadata": {
    "collapsed": false,
    "ExecuteTime": {
     "end_time": "2023-06-23T12:43:27.461037Z",
     "start_time": "2023-06-23T12:42:44.863997500Z"
    }
   }
  },
  {
   "cell_type": "code",
   "source": [
    "import cv2\n",
    "def box_label(image, box, label='', color=(128, 128, 128), txt_color=(255, 255, 255)):\n",
    "  lw = max(round(sum(image.shape) / 2 * 0.003), 2)\n",
    "  p1, p2 = (int(box[0]), int(box[1])), (int(box[2]), int(box[3]))\n",
    "  cv2.rectangle(image, p1, p2, color, thickness=lw, lineType=cv2.LINE_AA)\n",
    "  if label:\n",
    "    tf = max(lw - 1, 1)  # font thickness\n",
    "    w, h = cv2.getTextSize(label, 0, fontScale=lw / 3, thickness=tf)[0]  # text width, height\n",
    "    outside = p1[1] - h >= 3\n",
    "    p2 = p1[0] + w, p1[1] - h - 3 if outside else p1[1] + h + 3\n",
    "    cv2.rectangle(image, p1, p2, color, -1, cv2.LINE_AA)  # filled\n",
    "    cv2.putText(image,\n",
    "                label, (p1[0], p1[1] - 2 if outside else p1[1] + h + 2),\n",
    "                0,\n",
    "                lw / 3,\n",
    "                txt_color,\n",
    "                thickness=tf,\n",
    "                lineType=cv2.LINE_AA)\n",
    "\n",
    "\n",
    "def plot_bboxes(image, boxes, labels=[], colors=[], score=True, conf=None):\n",
    "\n",
    "  #Define COCO Labels\n",
    "  if labels == []:\n",
    "    labels = {0:u'__background__', 1: u'Person'}\n",
    "  #Define colors\n",
    "  if colors == []:\n",
    "    colors = [(89, 161, 197),(67, 161, 255),(19, 222, 24),(186, 55, 2),(167, 146, 11),(190, 76, 98),(130, 172, 179),(115, 209, 128),(204, 79, 135),(136, 126, 185),(209, 213, 45),(44, 52, 10),(101, 158, 121),(179, 124, 12),(25, 33, 189),(45, 115, 11),(73, 197, 184),(62, 225, 221),(32, 46, 52),(20, 165, 16),(54, 15, 57),(12, 150, 9),(10, 46, 99),(94, 89, 46),(48, 37, 106),(42, 10, 96),(7, 164, 128),(98, 213, 120),(40, 5, 219),(54, 25, 150),(251, 74, 172),(0, 236, 196),(21, 104, 190),(226, 74, 232),(120, 67, 25),(191, 106, 197),(8, 15, 134),(21, 2, 1),(142, 63, 109),(133, 148, 146),(187, 77, 253),(155, 22, 122),(218, 130, 77),(164, 102, 79),(43, 152, 125),(185, 124, 151),(95, 159, 238),(128, 89, 85),(228, 6, 60),(6, 41, 210),(11, 1, 133),(30, 96, 58),(230, 136, 109),(126, 45, 174),(164, 63, 165),(32, 111, 29),(232, 40, 70),(55, 31, 198),(148, 211, 129),(10, 186, 211),(181, 201, 94),(55, 35, 92),(129, 140, 233),(70, 250, 116),(61, 209, 152),(216, 21, 138),(100, 0, 176),(3, 42, 70),(151, 13, 44),(216, 102, 88),(125, 216, 93),(171, 236, 47),(253, 127, 103),(205, 137, 244),(193, 137, 224),(36, 152, 214),(17, 50, 238),(154, 165, 67),(114, 129, 60),(119, 24, 48),(73, 8, 110)]\n",
    "\n",
    "  #plot each boxes\n",
    "  for box in boxes:\n",
    "    #add score in label if score=True\n",
    "    if score :\n",
    "      label = labels[int(box[-1])+1] + \" \" + str(round(100 * float(box[-2]),1)) + \"%\"\n",
    "    else :\n",
    "      label = labels[int(box[-1])+1]\n",
    "    #filter every box under conf threshold if conf threshold setted\n",
    "    if conf :\n",
    "      if box[-2] > conf:\n",
    "        color = colors[int(box[-1])]\n",
    "        box_label(image, box, label, color)\n",
    "    else:\n",
    "      color = colors[int(box[-1])]\n",
    "      box_label(image, box, label, color)\n",
    "\n",
    "  #show image\n",
    "  image = cv2.cvtColor(image, cv2.COLOR_BGR2RGB)\n",
    "\n",
    "  try:\n",
    "    import google.colab\n",
    "    IN_COLAB = True\n",
    "  except:\n",
    "    IN_COLAB = False\n",
    "\n",
    "  if IN_COLAB:\n",
    "    cv2_imshow(image) #if used in Colab\n",
    "  else :\n",
    "    cv2.imshow(\"\",image) #if used in Python\n",
    "    waitKey(0)\n",
    "    destroyAllWindows()"
   ],
   "metadata": {
    "id": "CfuMyEFZ4xhk",
    "ExecuteTime": {
     "end_time": "2023-06-23T12:43:27.669078700Z",
     "start_time": "2023-06-23T12:43:27.648658100Z"
    }
   },
   "execution_count": 13,
   "outputs": []
  },
  {
   "cell_type": "code",
   "source": [
    "if IN_COLAB:\n",
    "    datasets_path = \"/content\"\n",
    "    model_path = \"drive/MyDrive/Models/runs/detect\"\n",
    "else:\n",
    "    datasets_path = \"../../datasets\"\n",
    "    model_path = \"\"\n",
    "\n",
    "images_path = os.listdir(f'{datasets_path}/LessPerson-8/test/images')\n",
    "model = YOLO(f'{model_path}yolov8n_Person_Detection2/weights/best.pt')\n",
    "for img in images_path:\n",
    "    results = model.predict(\n",
    "\n",
    "    source=f'{datasets_path}/LessPerson-8/test/images/{img}')\n",
    "    #source=\"../1452546327-8e5189cb2eacc8b9b2c808a53449904c.jpeg\")\n",
    "    im = imread(f\"{datasets_path}/LessPerson-8/test/images/{img}\")\n",
    "    plot_bboxes(im, results[0].boxes.boxes, score=True)\n",
    "    break\n",
    "print(results[0].boxes.boxes)\n",
    "for i in results[0].boxes.boxes:\n",
    "  print(i)\n"
   ],
   "metadata": {
    "colab": {
     "base_uri": "https://localhost:8080/",
     "height": 1000
    },
    "id": "y-Tei3YlwZqj",
    "outputId": "bc070715-9647-43c4-d5ae-0154a5f9f65c",
    "ExecuteTime": {
     "end_time": "2023-06-23T14:16:08.038754800Z",
     "start_time": "2023-06-23T14:15:56.654590500Z"
    }
   },
   "execution_count": 15,
   "outputs": [
    {
     "name": "stderr",
     "output_type": "stream",
     "text": [
      "\n",
      "image 1/1 C:\\Users\\Xtrabatya\\PycharmProjects\\HumanTracking\\dev\\src\\models\\..\\1452546327-8e5189cb2eacc8b9b2c808a53449904c.jpeg: 416x288 3 Persons, 306.2ms\n",
      "Speed: 8.2ms preprocess, 306.2ms inference, 7.2ms postprocess per image at shape (1, 3, 416, 416)\n",
      "WARNING  'Boxes.boxes' is deprecated. Use 'Boxes.data' instead.\n",
      "WARNING  'Boxes.boxes' is deprecated. Use 'Boxes.data' instead.\n",
      "WARNING  'Boxes.boxes' is deprecated. Use 'Boxes.data' instead.\n"
     ]
    },
    {
     "name": "stdout",
     "output_type": "stream",
     "text": [
      "tensor([[7.4772e+01, 7.9816e+01, 1.7264e+02, 3.7640e+02, 9.2758e-01, 0.0000e+00],\n",
      "        [1.4499e+02, 2.8218e+01, 2.6464e+02, 3.7766e+02, 8.9157e-01, 0.0000e+00],\n",
      "        [2.3636e+02, 4.5747e+02, 3.1259e+02, 5.0000e+02, 3.2046e-01, 0.0000e+00]])\n",
      "tensor([ 74.7716,  79.8164, 172.6383, 376.3986,   0.9276,   0.0000])\n",
      "tensor([144.9926,  28.2179, 264.6388, 377.6558,   0.8916,   0.0000])\n",
      "tensor([2.3636e+02, 4.5747e+02, 3.1259e+02, 5.0000e+02, 3.2046e-01, 0.0000e+00])\n"
     ]
    }
   ]
  },
  {
   "cell_type": "markdown",
   "source": [],
   "metadata": {
    "id": "kuABJBqLhCrw"
   }
  }
 ]
}
